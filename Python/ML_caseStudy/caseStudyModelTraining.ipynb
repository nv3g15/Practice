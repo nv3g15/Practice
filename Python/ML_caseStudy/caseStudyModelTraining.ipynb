{
 "cells": [
  {
   "cell_type": "code",
   "execution_count": 1,
   "metadata": {},
   "outputs": [],
   "source": [
    "import numpy as np\n",
    "import tensorflow as tf"
   ]
  },
  {
   "cell_type": "code",
   "execution_count": 4,
   "metadata": {},
   "outputs": [],
   "source": [
    "npz = np.load('Audiobooks_data_train.npz')\n",
    "train_inputs = npz['inputs'].astype(np.float)\n",
    "train_targets = npz['targets'].astype(np.int)\n",
    "\n",
    "npz = np.load('Audiobooks_data_validation.npz')\n",
    "validation_inputs, validation_targets = npz['inputs'].astype(np.float), npz['targets'].astype(np.int) \n",
    "\n",
    "npz = np.load('Audiobooks_data_test.npz')\n",
    "test_inputs, test_targets = npz['inputs'].astype(np.float), npz['targets'].astype(np.int)"
   ]
  },
  {
   "cell_type": "code",
   "execution_count": 8,
   "metadata": {},
   "outputs": [
    {
     "name": "stdout",
     "output_type": "stream",
     "text": [
      "Epoch 1/100\n",
      "36/36 - 0s - loss: 0.5225 - accuracy: 0.7985 - val_loss: 0.4085 - val_accuracy: 0.8635\n",
      "Epoch 2/100\n",
      "36/36 - 0s - loss: 0.3589 - accuracy: 0.8762 - val_loss: 0.3343 - val_accuracy: 0.8792\n",
      "Epoch 3/100\n",
      "36/36 - 0s - loss: 0.3129 - accuracy: 0.8838 - val_loss: 0.3104 - val_accuracy: 0.8926\n",
      "Epoch 4/100\n",
      "36/36 - 0s - loss: 0.2950 - accuracy: 0.8888 - val_loss: 0.2992 - val_accuracy: 0.8993\n",
      "Epoch 5/100\n",
      "36/36 - 0s - loss: 0.2858 - accuracy: 0.8921 - val_loss: 0.2868 - val_accuracy: 0.8971\n",
      "Epoch 6/100\n",
      "36/36 - 0s - loss: 0.2774 - accuracy: 0.8955 - val_loss: 0.2802 - val_accuracy: 0.9038\n",
      "Epoch 7/100\n",
      "36/36 - 0s - loss: 0.2704 - accuracy: 0.8966 - val_loss: 0.2746 - val_accuracy: 0.9016\n",
      "Epoch 8/100\n",
      "36/36 - 0s - loss: 0.2652 - accuracy: 0.8977 - val_loss: 0.2653 - val_accuracy: 0.9038\n",
      "Epoch 9/100\n",
      "36/36 - 0s - loss: 0.2624 - accuracy: 0.8986 - val_loss: 0.2635 - val_accuracy: 0.9060\n",
      "Epoch 10/100\n",
      "36/36 - 0s - loss: 0.2577 - accuracy: 0.9014 - val_loss: 0.2605 - val_accuracy: 0.9060\n",
      "Epoch 11/100\n",
      "36/36 - 0s - loss: 0.2570 - accuracy: 0.9025 - val_loss: 0.2563 - val_accuracy: 0.9060\n",
      "Epoch 12/100\n",
      "36/36 - 0s - loss: 0.2520 - accuracy: 0.9044 - val_loss: 0.2521 - val_accuracy: 0.9105\n",
      "Epoch 13/100\n",
      "36/36 - 0s - loss: 0.2512 - accuracy: 0.9056 - val_loss: 0.2570 - val_accuracy: 0.9060\n",
      "Epoch 14/100\n",
      "36/36 - 0s - loss: 0.2495 - accuracy: 0.9070 - val_loss: 0.2590 - val_accuracy: 0.9060\n"
     ]
    },
    {
     "data": {
      "text/plain": [
       "<tensorflow.python.keras.callbacks.History at 0x63d66fed0>"
      ]
     },
     "execution_count": 8,
     "metadata": {},
     "output_type": "execute_result"
    }
   ],
   "source": [
    "# model\n",
    "\n",
    "input_size = 10\n",
    "output_size = 2\n",
    "hidden_layer_size = 50\n",
    "\n",
    "model = tf.keras.Sequential([\n",
    "                            tf.keras.layers.Dense(hidden_layer_size, activation = 'relu'),\n",
    "                            tf.keras.layers.Dense(hidden_layer_size, activation = 'relu'),\n",
    "                            tf.keras.layers.Dense(output_size, activation = 'softmax')\n",
    "                            ])\n",
    "\n",
    "model.compile(optimizer='adam',loss='sparse_categorical_crossentropy',metrics=['accuracy'])\n",
    "\n",
    "BATCH_SIZE = 100\n",
    "EPOCHS = 100\n",
    "\n",
    "early_stopping = tf.keras.callbacks.EarlyStopping(patience=2)\n",
    "\n",
    "model.fit(train_inputs,\n",
    "         train_targets,\n",
    "         batch_size = BATCH_SIZE,\n",
    "         epochs = EPOCHS,\n",
    "         callbacks = [early_stopping],\n",
    "         validation_data = (validation_inputs, validation_targets),\n",
    "         verbose = 2)"
   ]
  },
  {
   "cell_type": "code",
   "execution_count": 9,
   "metadata": {},
   "outputs": [
    {
     "name": "stdout",
     "output_type": "stream",
     "text": [
      "14/14 [==============================] - 0s 2ms/step - loss: 0.2145 - accuracy: 0.9196\n"
     ]
    }
   ],
   "source": [
    "# test the model\n",
    "\n",
    "test_loss, test_accuracy = model.evaluate(test_inputs, test_targets)"
   ]
  },
  {
   "cell_type": "code",
   "execution_count": null,
   "metadata": {},
   "outputs": [],
   "source": [
    "x"
   ]
  }
 ],
 "metadata": {
  "kernelspec": {
   "display_name": "Python [conda env:py3-TF2.0]",
   "language": "python",
   "name": "conda-env-py3-TF2.0-py"
  },
  "language_info": {
   "codemirror_mode": {
    "name": "ipython",
    "version": 3
   },
   "file_extension": ".py",
   "mimetype": "text/x-python",
   "name": "python",
   "nbconvert_exporter": "python",
   "pygments_lexer": "ipython3",
   "version": "3.7.7"
  }
 },
 "nbformat": 4,
 "nbformat_minor": 2
}
